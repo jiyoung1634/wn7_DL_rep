{
 "cells": [
  {
   "cell_type": "markdown",
   "id": "14958972",
   "metadata": {},
   "source": [
    "# 가상환경 torch_cuda_yolo_env\n",
    "# dl_llm_env"
   ]
  },
  {
   "cell_type": "markdown",
   "id": "c8f4c670",
   "metadata": {},
   "source": [
    "# 추론 : 배포한 공유모델로 객체 감지"
   ]
  },
  {
   "cell_type": "code",
   "execution_count": 16,
   "id": "86252abb",
   "metadata": {},
   "outputs": [
    {
     "name": "stdout",
     "output_type": "stream",
     "text": [
      "torch: 2.6.0+cu124 cuda: 12.4 is_available: True\n"
     ]
    }
   ],
   "source": [
    "import torch\n",
    "print(\"torch:\", torch.__version__, \"cuda:\", torch.version.cuda, \"is_available:\", torch.cuda.is_available())"
   ]
  },
  {
   "cell_type": "code",
   "execution_count": 17,
   "id": "7b0df691",
   "metadata": {},
   "outputs": [],
   "source": [
    "import os\n",
    "from dotenv import load_dotenv\n",
    "loaded = load_dotenv()\n",
    "#os.getenv('ROBOFLOW_API_KEY')"
   ]
  },
  {
   "cell_type": "code",
   "execution_count": 18,
   "id": "a6c8711d",
   "metadata": {},
   "outputs": [
    {
     "data": {
      "text/plain": [
       "<inference_sdk.http.client.InferenceHTTPClient at 0x1cd1c648610>"
      ]
     },
     "execution_count": 18,
     "metadata": {},
     "output_type": "execute_result"
    }
   ],
   "source": [
    "from inference_sdk import InferenceHTTPClient\n",
    "CLIENT = InferenceHTTPClient(\n",
    "    api_url=\"https://detect.roboflow.com\",\n",
    "    api_key = os.getenv('ROBOFLOW_API_KEY')\n",
    ")\n",
    "CLIENT"
   ]
  },
  {
   "cell_type": "code",
   "execution_count": 19,
   "id": "03aceaf7",
   "metadata": {},
   "outputs": [
    {
     "data": {
      "text/plain": [
       "{'inference_id': '42e4574e-64e7-4711-a98c-9211a40d84d4',\n",
       " 'time': 0.1622689639998498,\n",
       " 'image': {'width': 1280, 'height': 960},\n",
       " 'predictions': [{'x': 985.5,\n",
       "   'y': 470.5,\n",
       "   'width': 289.0,\n",
       "   'height': 265.0,\n",
       "   'confidence': 0.45887279510498047,\n",
       "   'class': 'Rock',\n",
       "   'class_id': 1,\n",
       "   'detection_id': '050e8c29-333f-472a-8a62-7f38f7eef755'}]}"
      ]
     },
     "execution_count": 19,
     "metadata": {},
     "output_type": "execute_result"
    }
   ],
   "source": [
    "result = CLIENT.infer('sample.png', model_id = 'rock-paper-scissors-sxsw/14')\n",
    "result"
   ]
  },
  {
   "cell_type": "code",
   "execution_count": 23,
   "id": "62d4175f",
   "metadata": {},
   "outputs": [
    {
     "name": "stdout",
     "output_type": "stream",
     "text": [
      "985.5 470.5 289.0 265.0 0.45887279510498047 Rock\n"
     ]
    }
   ],
   "source": [
    "import cv2\n",
    "img = cv2.imread('sample.png')\n",
    "\n",
    "for pred in result['predictions']:\n",
    "    x = pred['x']\n",
    "    y = pred['y']\n",
    "    width = pred['width']\n",
    "    height = pred['height']\n",
    "    conf = pred['confidence']\n",
    "    obj_class = pred['class']\n",
    "    \n",
    "    x1, y1 = int(x-width/2), int(y-height/2)\n",
    "    x2, y2 = int(x+width/2), int(y+height/2)\n",
    "    cv2.rectangle(img, (x1,y1), (x2, y2), (0,0,255), 2)\n",
    "    cv2.putText(img, f'{obj_class} {conf:.4f}', (x1,y1), cv2.FONT_HERSHEY_PLAIN, 2, (0,0,255))\n",
    "    \n",
    "    print(x, y, width, height, conf, obj_class)\n",
    "\n",
    "cv2.imshow('image', img)\n",
    "cv2.waitKey()\n",
    "cv2.destroyAllWindows()"
   ]
  },
  {
   "cell_type": "markdown",
   "id": "892a563c",
   "metadata": {},
   "source": [
    "# ROBOFLOW에서 다른 모델(NUMBER)로 실습"
   ]
  },
  {
   "cell_type": "code",
   "execution_count": 24,
   "id": "f956901b",
   "metadata": {},
   "outputs": [
    {
     "data": {
      "text/plain": [
       "<inference_sdk.http.client.InferenceHTTPClient at 0x1cd1c67beb0>"
      ]
     },
     "execution_count": 24,
     "metadata": {},
     "output_type": "execute_result"
    }
   ],
   "source": [
    "from inference_sdk import InferenceHTTPClient\n",
    "CLIENT = InferenceHTTPClient(\n",
    "    api_url=\"https://detect.roboflow.com\",\n",
    "    api_key = os.getenv('ROBOFLOW_API_KEY')\n",
    ")\n",
    "CLIENT"
   ]
  },
  {
   "cell_type": "code",
   "execution_count": 26,
   "id": "5477e2cc",
   "metadata": {},
   "outputs": [
    {
     "data": {
      "text/plain": [
       "{'inference_id': '122c5b04-9b52-44de-b4b2-f6e6db9ac260',\n",
       " 'time': 0.039615776000118785,\n",
       " 'image': {'width': 416, 'height': 416},\n",
       " 'predictions': []}"
      ]
     },
     "execution_count": 26,
     "metadata": {},
     "output_type": "execute_result"
    }
   ],
   "source": [
    "result1 = CLIENT.infer('mnist_train/000001.jpg', model_id = 'number-fuieb/1')\n",
    "result1"
   ]
  },
  {
   "cell_type": "code",
   "execution_count": 28,
   "id": "ff45c78c",
   "metadata": {},
   "outputs": [],
   "source": [
    "import cv2\n",
    "img = cv2.imread('mnist_train/000001.jpg')\n",
    "\n",
    "for pred in result1['predictions']:\n",
    "    x = pred['x']\n",
    "    y = pred['y']\n",
    "    width = pred['width']\n",
    "    height = pred['height']\n",
    "    conf = pred['confidence']\n",
    "    obj_class = pred['class']\n",
    "    \n",
    "    x1, y1 = int(x-width/2), int(y-height/2)\n",
    "    x2, y2 = int(x+width/2), int(y+height/2)\n",
    "    cv2.rectangle(img, (x1,y1), (x2, y2), (0,0,255), 2)\n",
    "    cv2.putText(img, f'{obj_class} {conf:.4f}', (x1,y1), cv2.FONT_HERSHEY_PLAIN, 2, (0,0,255))\n",
    "    \n",
    "    print(x, y, width, height, conf, obj_class)\n",
    "\n",
    "cv2.imshow('image', img)\n",
    "cv2.waitKey()\n",
    "cv2.destroyAllWindows()"
   ]
  },
  {
   "cell_type": "code",
   "execution_count": null,
   "id": "bd026b03",
   "metadata": {},
   "outputs": [],
   "source": []
  },
  {
   "cell_type": "markdown",
   "id": "19c64d16",
   "metadata": {},
   "source": [
    "# model 가져오기"
   ]
  },
  {
   "cell_type": "code",
   "execution_count": null,
   "id": "dfa0873e",
   "metadata": {},
   "outputs": [
    {
     "name": "stdout",
     "output_type": "stream",
     "text": [
      "loading Roboflow workspace...\n",
      "loading Roboflow project...\n"
     ]
    },
    {
     "data": {
      "text/plain": [
       "<roboflow.models.object_detection.ObjectDetectionModel at 0x1cd1cfc9fc0>"
      ]
     },
     "execution_count": 29,
     "metadata": {},
     "output_type": "execute_result"
    }
   ],
   "source": [
    "from roboflow import Roboflow\n",
    "import cv2\n",
    "rf = Roboflow(api_key=os.getenv('ROBOFLOW_API_KEY'))\n",
    "project = rf.workspace().project('numbers-yt0h2')\n",
    "numbers_model = project.version(2).model\n",
    "numbers_model "
   ]
  },
  {
   "cell_type": "code",
   "execution_count": 41,
   "id": "c9b55342",
   "metadata": {},
   "outputs": [
    {
     "name": "stdout",
     "output_type": "stream",
     "text": [
      "109 234 7 8 2 0.5138\n",
      "76 126 25 30 8 0.4945\n",
      "234 30 45 46 3 0.4825\n",
      "233 30 47 44 2 0.4006\n"
     ]
    }
   ],
   "source": [
    "filename = 'mnist_train/000002.jpg'\n",
    "result = numbers_model.predict(filename, confidence=40, overlap=30)\n",
    "result_json = result.json()\n",
    "#print(result_json)\n",
    "img = cv2.imread('mnist_train/000002.jpg')\n",
    "\n",
    "for pred in result_json['predictions']:\n",
    "    x = pred['x']\n",
    "    y = pred['y']\n",
    "    width = pred['width']\n",
    "    height = pred['height']\n",
    "    conf = pred['confidence']\n",
    "    cls = pred['class']\n",
    "    print(x, y, width, height, f'{cls} {conf:.4f}')\n",
    "    \n",
    "    x1, y1 = int(x-width/2), int(y-height/2)\n",
    "    x2, y2 = int(x+width/2), int(y+height/2)\n",
    "    \n",
    "    cv2.rectangle(img, (x1,y1), (x2, y2), (0,0,255), 2)\n",
    "    cv2.putText(img, f'{cls} {conf:.4f}', (x1,y1), cv2.FONT_HERSHEY_PLAIN, 2, (0,0,255))\n",
    "\n",
    "cv2.imshow('image', img)\n",
    "cv2.waitKey()\n",
    "cv2.destroyAllWindows()"
   ]
  },
  {
   "cell_type": "code",
   "execution_count": null,
   "id": "67ea697c",
   "metadata": {},
   "outputs": [],
   "source": []
  }
 ],
 "metadata": {
  "kernelspec": {
   "display_name": "torch_cuda_yolo_env",
   "language": "python",
   "name": "python3"
  },
  "language_info": {
   "codemirror_mode": {
    "name": "ipython",
    "version": 3
   },
   "file_extension": ".py",
   "mimetype": "text/x-python",
   "name": "python",
   "nbconvert_exporter": "python",
   "pygments_lexer": "ipython3",
   "version": "3.10.18"
  }
 },
 "nbformat": 4,
 "nbformat_minor": 5
}
