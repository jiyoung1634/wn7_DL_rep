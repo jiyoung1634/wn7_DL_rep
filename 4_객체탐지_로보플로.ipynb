{
 "cells": [
  {
   "cell_type": "markdown",
   "id": "14958972",
   "metadata": {},
   "source": [
    "# 가상환경 torch_cuda_yolo_env\n",
    "# dl_llm_env"
   ]
  },
  {
   "cell_type": "code",
   "execution_count": 2,
   "id": "86252abb",
   "metadata": {},
   "outputs": [
    {
     "name": "stdout",
     "output_type": "stream",
     "text": [
      "torch: 2.6.0+cu124 cuda: 12.4 is_available: True\n"
     ]
    }
   ],
   "source": [
    "import torch\n",
    "print(\"torch:\", torch.__version__, \"cuda:\", torch.version.cuda, \"is_available:\", torch.cuda.is_available())"
   ]
  },
  {
   "cell_type": "code",
   "execution_count": 12,
   "id": "7b0df691",
   "metadata": {},
   "outputs": [
    {
     "data": {
      "text/plain": [
       "'XxS1RtbzoHKGHwbHPUcy'"
      ]
     },
     "execution_count": 12,
     "metadata": {},
     "output_type": "execute_result"
    }
   ],
   "source": [
    "import os\n",
    "from dotenv import load_dotenv\n",
    "loaded = load_dotenv()\n",
    "os.getenv('ROBOFLOW_API_KEY')"
   ]
  },
  {
   "cell_type": "code",
   "execution_count": 13,
   "id": "a6c8711d",
   "metadata": {},
   "outputs": [
    {
     "data": {
      "text/plain": [
       "<inference_sdk.http.client.InferenceHTTPClient at 0x1cd1c67bc40>"
      ]
     },
     "execution_count": 13,
     "metadata": {},
     "output_type": "execute_result"
    }
   ],
   "source": [
    "from inference_sdk import InferenceHTTPClient\n",
    "CLIENT = InferenceHTTPClient(\n",
    "    api_url=\"https://detect.roboflow.com\",\n",
    "    api_key = os.getenv('ROBOFLOW_API_KEY')\n",
    ")\n",
    "CLIENT"
   ]
  },
  {
   "cell_type": "code",
   "execution_count": 14,
   "id": "03aceaf7",
   "metadata": {},
   "outputs": [
    {
     "data": {
      "text/plain": [
       "{'inference_id': '70f0de78-1898-47a3-a154-35064aadefa9',\n",
       " 'time': 0.04822066899987476,\n",
       " 'image': {'width': 1280, 'height': 960},\n",
       " 'predictions': [{'x': 985.5,\n",
       "   'y': 470.5,\n",
       "   'width': 289.0,\n",
       "   'height': 265.0,\n",
       "   'confidence': 0.45887279510498047,\n",
       "   'class': 'Rock',\n",
       "   'class_id': 1,\n",
       "   'detection_id': 'd3c45490-1d4d-4d64-b943-fed99e940a8e'}]}"
      ]
     },
     "execution_count": 14,
     "metadata": {},
     "output_type": "execute_result"
    }
   ],
   "source": [
    "result = CLIENT.infer('sample.png', model_id = 'rock-paper-scissors-sxsw/14')\n",
    "result"
   ]
  },
  {
   "cell_type": "code",
   "execution_count": 15,
   "id": "62d4175f",
   "metadata": {},
   "outputs": [
    {
     "name": "stdout",
     "output_type": "stream",
     "text": [
      "985.5 470.5 289.0 265.0 0.45887279510498047 Rock\n"
     ]
    }
   ],
   "source": [
    "for pred in result['predictions']:\n",
    "    x = pred['x']\n",
    "    y = pred['y']\n",
    "    width = pred['width']\n",
    "    height = pred['height']\n",
    "    conf = pred['confidence']\n",
    "    obj_class = pred['class']\n",
    "    print(x, y, width, height, conf, obj_class)"
   ]
  },
  {
   "cell_type": "code",
   "execution_count": null,
   "id": "c3e97838",
   "metadata": {},
   "outputs": [],
   "source": []
  }
 ],
 "metadata": {
  "kernelspec": {
   "display_name": "torch_cuda_yolo_env",
   "language": "python",
   "name": "python3"
  },
  "language_info": {
   "codemirror_mode": {
    "name": "ipython",
    "version": 3
   },
   "file_extension": ".py",
   "mimetype": "text/x-python",
   "name": "python",
   "nbconvert_exporter": "python",
   "pygments_lexer": "ipython3",
   "version": "3.10.18"
  }
 },
 "nbformat": 4,
 "nbformat_minor": 5
}
